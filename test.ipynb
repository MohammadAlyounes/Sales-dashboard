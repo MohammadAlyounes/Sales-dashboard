{
 "cells": [
  {
   "cell_type": "code",
   "id": "initial_id",
   "metadata": {
    "collapsed": true,
    "ExecuteTime": {
     "end_time": "2025-05-17T04:17:50.879930Z",
     "start_time": "2025-05-17T04:17:49.943093Z"
    }
   },
   "source": "import pandas as pd",
   "outputs": [],
   "execution_count": 1
  },
  {
   "metadata": {
    "ExecuteTime": {
     "end_time": "2025-05-17T04:21:36.838484Z",
     "start_time": "2025-05-17T04:21:36.832916Z"
    }
   },
   "cell_type": "code",
   "source": [
    "def prepare_data() -> pd.DataFrame:\n",
    "    df = pd.read_csv('sales_data.csv')\n",
    "    df['Day'] = pd.to_datetime(df['date'])\n",
    "    return df"
   ],
   "id": "8dd86caea189d41a",
   "outputs": [],
   "execution_count": 8
  },
  {
   "metadata": {
    "ExecuteTime": {
     "end_time": "2025-05-17T04:21:41.344177Z",
     "start_time": "2025-05-17T04:21:40.009509Z"
    }
   },
   "cell_type": "code",
   "source": "data = prepare_data()",
   "id": "c3b823f9ce91bb7d",
   "outputs": [],
   "execution_count": 9
  },
  {
   "metadata": {
    "ExecuteTime": {
     "end_time": "2025-05-17T04:22:06.440566Z",
     "start_time": "2025-05-17T04:22:06.430885Z"
    }
   },
   "cell_type": "code",
   "source": "grouped = data.groupby('Day')",
   "id": "45104923b7ccce28",
   "outputs": [],
   "execution_count": 10
  },
  {
   "metadata": {
    "ExecuteTime": {
     "end_time": "2025-05-17T04:41:57.823526Z",
     "start_time": "2025-05-17T04:41:57.421143Z"
    }
   },
   "cell_type": "code",
   "source": "data = grouped.apply(lambda df: df['sales'].sum()).reset_index()",
   "id": "53f59782d54257c5",
   "outputs": [],
   "execution_count": 24
  },
  {
   "metadata": {
    "ExecuteTime": {
     "end_time": "2025-05-17T04:41:59.148775Z",
     "start_time": "2025-05-17T04:41:59.134210Z"
    }
   },
   "cell_type": "code",
   "source": [
    "data.columns = [\"Day\", \"Sales\"]\n",
    "data"
   ],
   "id": "6ba5f85d145046f3",
   "outputs": [
    {
     "data": {
      "text/plain": [
       "            Day          Sales\n",
       "0    2019-01-01   71084.490000\n",
       "1    2019-01-02   73570.110000\n",
       "2    2019-01-03   75745.100000\n",
       "3    2019-01-04   74674.680000\n",
       "4    2019-01-05   73801.650000\n",
       "...         ...            ...\n",
       "2065 2024-08-27  122259.275533\n",
       "2066 2024-08-28  112064.597256\n",
       "2067 2024-08-29  115707.364111\n",
       "2068 2024-08-30  117181.122270\n",
       "2069 2024-08-31  114810.336135\n",
       "\n",
       "[2070 rows x 2 columns]"
      ],
      "text/html": [
       "<div>\n",
       "<style scoped>\n",
       "    .dataframe tbody tr th:only-of-type {\n",
       "        vertical-align: middle;\n",
       "    }\n",
       "\n",
       "    .dataframe tbody tr th {\n",
       "        vertical-align: top;\n",
       "    }\n",
       "\n",
       "    .dataframe thead th {\n",
       "        text-align: right;\n",
       "    }\n",
       "</style>\n",
       "<table border=\"1\" class=\"dataframe\">\n",
       "  <thead>\n",
       "    <tr style=\"text-align: right;\">\n",
       "      <th></th>\n",
       "      <th>Day</th>\n",
       "      <th>Sales</th>\n",
       "    </tr>\n",
       "  </thead>\n",
       "  <tbody>\n",
       "    <tr>\n",
       "      <th>0</th>\n",
       "      <td>2019-01-01</td>\n",
       "      <td>71084.490000</td>\n",
       "    </tr>\n",
       "    <tr>\n",
       "      <th>1</th>\n",
       "      <td>2019-01-02</td>\n",
       "      <td>73570.110000</td>\n",
       "    </tr>\n",
       "    <tr>\n",
       "      <th>2</th>\n",
       "      <td>2019-01-03</td>\n",
       "      <td>75745.100000</td>\n",
       "    </tr>\n",
       "    <tr>\n",
       "      <th>3</th>\n",
       "      <td>2019-01-04</td>\n",
       "      <td>74674.680000</td>\n",
       "    </tr>\n",
       "    <tr>\n",
       "      <th>4</th>\n",
       "      <td>2019-01-05</td>\n",
       "      <td>73801.650000</td>\n",
       "    </tr>\n",
       "    <tr>\n",
       "      <th>...</th>\n",
       "      <td>...</td>\n",
       "      <td>...</td>\n",
       "    </tr>\n",
       "    <tr>\n",
       "      <th>2065</th>\n",
       "      <td>2024-08-27</td>\n",
       "      <td>122259.275533</td>\n",
       "    </tr>\n",
       "    <tr>\n",
       "      <th>2066</th>\n",
       "      <td>2024-08-28</td>\n",
       "      <td>112064.597256</td>\n",
       "    </tr>\n",
       "    <tr>\n",
       "      <th>2067</th>\n",
       "      <td>2024-08-29</td>\n",
       "      <td>115707.364111</td>\n",
       "    </tr>\n",
       "    <tr>\n",
       "      <th>2068</th>\n",
       "      <td>2024-08-30</td>\n",
       "      <td>117181.122270</td>\n",
       "    </tr>\n",
       "    <tr>\n",
       "      <th>2069</th>\n",
       "      <td>2024-08-31</td>\n",
       "      <td>114810.336135</td>\n",
       "    </tr>\n",
       "  </tbody>\n",
       "</table>\n",
       "<p>2070 rows × 2 columns</p>\n",
       "</div>"
      ]
     },
     "execution_count": 25,
     "metadata": {},
     "output_type": "execute_result"
    }
   ],
   "execution_count": 25
  },
  {
   "metadata": {},
   "cell_type": "code",
   "outputs": [],
   "execution_count": null,
   "source": "",
   "id": "e4cb9eedd5b1afce"
  }
 ],
 "metadata": {
  "kernelspec": {
   "display_name": "Python 3",
   "language": "python",
   "name": "python3"
  },
  "language_info": {
   "codemirror_mode": {
    "name": "ipython",
    "version": 2
   },
   "file_extension": ".py",
   "mimetype": "text/x-python",
   "name": "python",
   "nbconvert_exporter": "python",
   "pygments_lexer": "ipython2",
   "version": "2.7.6"
  }
 },
 "nbformat": 4,
 "nbformat_minor": 5
}
